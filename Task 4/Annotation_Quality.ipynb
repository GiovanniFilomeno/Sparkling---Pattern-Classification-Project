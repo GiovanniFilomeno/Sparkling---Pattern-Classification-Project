{
 "cells": [
  {
   "cell_type": "code",
   "execution_count": 57,
   "id": "0a595a05-b67d-4d0e-bdfd-b339e667240f",
   "metadata": {},
   "outputs": [],
   "source": [
    "import os\n",
    "import pandas as pd\n",
    "\n",
    "PATH_TO_DATASET = 'MLPC2025_dataset'\n",
    "\n",
    "annotations = pd.read_csv(os.path.join(PATH_TO_DATASET, \"annotations.csv\"))"
   ]
  },
  {
   "cell_type": "code",
   "execution_count": 8,
   "id": "c6717028-ff93-4ea2-9c49-8221215508a3",
   "metadata": {},
   "outputs": [
    {
     "data": {
      "text/html": [
       "<div>\n",
       "<style scoped>\n",
       "    .dataframe tbody tr th:only-of-type {\n",
       "        vertical-align: middle;\n",
       "    }\n",
       "\n",
       "    .dataframe tbody tr th {\n",
       "        vertical-align: top;\n",
       "    }\n",
       "\n",
       "    .dataframe thead th {\n",
       "        text-align: right;\n",
       "    }\n",
       "</style>\n",
       "<table border=\"1\" class=\"dataframe\">\n",
       "  <thead>\n",
       "    <tr style=\"text-align: right;\">\n",
       "      <th></th>\n",
       "      <th>task_id</th>\n",
       "      <th>filename</th>\n",
       "      <th>annotator</th>\n",
       "      <th>text</th>\n",
       "      <th>onset</th>\n",
       "      <th>offset</th>\n",
       "      <th>filename_unsafe</th>\n",
       "    </tr>\n",
       "  </thead>\n",
       "  <tbody>\n",
       "    <tr>\n",
       "      <th>7</th>\n",
       "      <td>161977606</td>\n",
       "      <td>329549.mp3</td>\n",
       "      <td>7730311164966960713783008629945271263745821651...</td>\n",
       "      <td>A click sound.</td>\n",
       "      <td>5.070086</td>\n",
       "      <td>5.231041</td>\n",
       "      <td>329549_Canarian_Bird_In_Cage_Singing_1wav.mp3</td>\n",
       "    </tr>\n",
       "    <tr>\n",
       "      <th>12</th>\n",
       "      <td>161988282</td>\n",
       "      <td>666579.mp3</td>\n",
       "      <td>7677568323544261764859631231436542107544499365...</td>\n",
       "      <td>Claves being played loudly once;</td>\n",
       "      <td>0.091178</td>\n",
       "      <td>0.237062</td>\n",
       "      <td>666579_A veces armo cosas in D major.mp3</td>\n",
       "    </tr>\n",
       "    <tr>\n",
       "      <th>14</th>\n",
       "      <td>161981885</td>\n",
       "      <td>482014.mp3</td>\n",
       "      <td>8255123528430973965396800834481421031191605866...</td>\n",
       "      <td>tropical birds chirp and the sound of the sea ...</td>\n",
       "      <td>13.187639</td>\n",
       "      <td>17.789174</td>\n",
       "      <td>482014_0515_birds and beach_1015WAV.mp3</td>\n",
       "    </tr>\n",
       "    <tr>\n",
       "      <th>19</th>\n",
       "      <td>161984978</td>\n",
       "      <td>624495.mp3</td>\n",
       "      <td>7305489040855023434029597881305170467636785003...</td>\n",
       "      <td>Woman is laughing</td>\n",
       "      <td>0.000000</td>\n",
       "      <td>1.098097</td>\n",
       "      <td>624495_kamala laugh slow verbaif.mp3</td>\n",
       "    </tr>\n",
       "    <tr>\n",
       "      <th>25</th>\n",
       "      <td>161980213</td>\n",
       "      <td>221499.mp3</td>\n",
       "      <td>2511836030875594054249018396648810123064624225...</td>\n",
       "      <td>Heavy rain falling on wooden surface</td>\n",
       "      <td>0.000000</td>\n",
       "      <td>28.665805</td>\n",
       "      <td>221499_heavy rain on wooden doorsWAV.mp3</td>\n",
       "    </tr>\n",
       "  </tbody>\n",
       "</table>\n",
       "</div>"
      ],
      "text/plain": [
       "      task_id    filename                                          annotator  \\\n",
       "7   161977606  329549.mp3  7730311164966960713783008629945271263745821651...   \n",
       "12  161988282  666579.mp3  7677568323544261764859631231436542107544499365...   \n",
       "14  161981885  482014.mp3  8255123528430973965396800834481421031191605866...   \n",
       "19  161984978  624495.mp3  7305489040855023434029597881305170467636785003...   \n",
       "25  161980213  221499.mp3  2511836030875594054249018396648810123064624225...   \n",
       "\n",
       "                                                 text      onset     offset  \\\n",
       "7                                      A click sound.   5.070086   5.231041   \n",
       "12                   Claves being played loudly once;   0.091178   0.237062   \n",
       "14  tropical birds chirp and the sound of the sea ...  13.187639  17.789174   \n",
       "19                                  Woman is laughing   0.000000   1.098097   \n",
       "25               Heavy rain falling on wooden surface   0.000000  28.665805   \n",
       "\n",
       "                                  filename_unsafe  \n",
       "7   329549_Canarian_Bird_In_Cage_Singing_1wav.mp3  \n",
       "12       666579_A veces armo cosas in D major.mp3  \n",
       "14        482014_0515_birds and beach_1015WAV.mp3  \n",
       "19           624495_kamala laugh slow verbaif.mp3  \n",
       "25       221499_heavy rain on wooden doorsWAV.mp3  "
      ]
     },
     "execution_count": 8,
     "metadata": {},
     "output_type": "execute_result"
    }
   ],
   "source": [
    "# Count unique annotators per file\n",
    "annotator_counts = annotations.groupby(\"filename\")[\"annotator\"].nunique().reset_index()\n",
    "\n",
    "# Filter filenames with more than one annotator\n",
    "multi_annotated_files = annotator_counts[annotator_counts[\"annotator\"] > 1][\"filename\"]\n",
    "\n",
    "# Filter the original dataframe to keep only those files\n",
    "multiple_annotations = annotations[annotations[\"filename\"].isin(multi_annotated_files)]\n",
    "\n",
    "# Optional: look at a sample\n",
    "multiple_annotations.head()"
   ]
  },
  {
   "cell_type": "code",
   "execution_count": 9,
   "id": "e3c056d6-0ca0-41bd-8ecd-50cd47b3167d",
   "metadata": {},
   "outputs": [
    {
     "data": {
      "text/html": [
       "<div>\n",
       "<style scoped>\n",
       "    .dataframe tbody tr th:only-of-type {\n",
       "        vertical-align: middle;\n",
       "    }\n",
       "\n",
       "    .dataframe tbody tr th {\n",
       "        vertical-align: top;\n",
       "    }\n",
       "\n",
       "    .dataframe thead th {\n",
       "        text-align: right;\n",
       "    }\n",
       "</style>\n",
       "<table border=\"1\" class=\"dataframe\">\n",
       "  <thead>\n",
       "    <tr style=\"text-align: right;\">\n",
       "      <th></th>\n",
       "      <th>filename</th>\n",
       "      <th>num_clusters</th>\n",
       "      <th>onset_MAD</th>\n",
       "      <th>offset_MAD</th>\n",
       "      <th>num_annotations</th>\n",
       "    </tr>\n",
       "  </thead>\n",
       "  <tbody>\n",
       "    <tr>\n",
       "      <th>0</th>\n",
       "      <td>104625.mp3</td>\n",
       "      <td>13</td>\n",
       "      <td>0.071570</td>\n",
       "      <td>0.053978</td>\n",
       "      <td>32</td>\n",
       "    </tr>\n",
       "    <tr>\n",
       "      <th>1</th>\n",
       "      <td>106035.mp3</td>\n",
       "      <td>1</td>\n",
       "      <td>0.012258</td>\n",
       "      <td>0.000000</td>\n",
       "      <td>2</td>\n",
       "    </tr>\n",
       "    <tr>\n",
       "      <th>2</th>\n",
       "      <td>108514.mp3</td>\n",
       "      <td>1</td>\n",
       "      <td>0.014656</td>\n",
       "      <td>0.000000</td>\n",
       "      <td>2</td>\n",
       "    </tr>\n",
       "    <tr>\n",
       "      <th>3</th>\n",
       "      <td>113327.mp3</td>\n",
       "      <td>1</td>\n",
       "      <td>2.364818</td>\n",
       "      <td>2.075012</td>\n",
       "      <td>6</td>\n",
       "    </tr>\n",
       "    <tr>\n",
       "      <th>4</th>\n",
       "      <td>113340.mp3</td>\n",
       "      <td>0</td>\n",
       "      <td>NaN</td>\n",
       "      <td>NaN</td>\n",
       "      <td>2</td>\n",
       "    </tr>\n",
       "  </tbody>\n",
       "</table>\n",
       "</div>"
      ],
      "text/plain": [
       "     filename  num_clusters  onset_MAD  offset_MAD  num_annotations\n",
       "0  104625.mp3            13   0.071570    0.053978               32\n",
       "1  106035.mp3             1   0.012258    0.000000                2\n",
       "2  108514.mp3             1   0.014656    0.000000                2\n",
       "3  113327.mp3             1   2.364818    2.075012                6\n",
       "4  113340.mp3             0        NaN         NaN                2"
      ]
     },
     "execution_count": 9,
     "metadata": {},
     "output_type": "execute_result"
    }
   ],
   "source": [
    "import numpy as np\n",
    "import pandas as pd\n",
    "\n",
    "def compute_iou(a_start, a_end, b_start, b_end):\n",
    "    inter_start = max(a_start, b_start)\n",
    "    inter_end = min(a_end, b_end)\n",
    "    intersection = max(0, inter_end - inter_start)\n",
    "    union = max(a_end, b_end) - min(a_start, b_start)\n",
    "    return intersection / union if union > 0 else 0\n",
    "\n",
    "# Set IoU threshold to consider annotations as referring to the same event\n",
    "IOU_THRESHOLD = 0.5\n",
    "\n",
    "results = []\n",
    "\n",
    "for filename in multi_annotated_files:\n",
    "    file_anns = multiple_annotations[multiple_annotations[\"filename\"] == filename]\n",
    "    \n",
    "    # Sort for consistency\n",
    "    file_anns = file_anns.sort_values(by=\"onset\")\n",
    "    \n",
    "    # Group matching annotations into \"event clusters\"\n",
    "    clusters = []\n",
    "    used = set()\n",
    "    \n",
    "    for i, row in file_anns.iterrows():\n",
    "        if i in used:\n",
    "            continue\n",
    "        \n",
    "        # Start new cluster\n",
    "        cluster = [row]\n",
    "        used.add(i)\n",
    "        \n",
    "        for j, other in file_anns.iterrows():\n",
    "            if j in used or row[\"annotator\"] == other[\"annotator\"]:\n",
    "                continue\n",
    "            \n",
    "            iou = compute_iou(row[\"onset\"], row[\"offset\"], other[\"onset\"], other[\"offset\"])\n",
    "            if iou >= IOU_THRESHOLD:\n",
    "                cluster.append(other)\n",
    "                used.add(j)\n",
    "        \n",
    "        if len(cluster) > 1:  # Only consider clusters with >1 annotator\n",
    "            clusters.append(pd.DataFrame(cluster))\n",
    "\n",
    "    # Compute MADs for each cluster\n",
    "    cluster_mads = []\n",
    "    for cluster_df in clusters:\n",
    "        onset_mad = np.mean(np.abs(cluster_df[\"onset\"] - cluster_df[\"onset\"].mean()))\n",
    "        offset_mad = np.mean(np.abs(cluster_df[\"offset\"] - cluster_df[\"offset\"].mean()))\n",
    "        cluster_mads.append((onset_mad, offset_mad))\n",
    "\n",
    "    if cluster_mads:\n",
    "        onset_mad_avg = np.mean([m[0] for m in cluster_mads])\n",
    "        offset_mad_avg = np.mean([m[1] for m in cluster_mads])\n",
    "    else:\n",
    "        onset_mad_avg = np.nan\n",
    "        offset_mad_avg = np.nan\n",
    "\n",
    "    results.append({\n",
    "        \"filename\": filename,\n",
    "        \"num_clusters\": len(clusters),\n",
    "        \"onset_MAD\": onset_mad_avg,\n",
    "        \"offset_MAD\": offset_mad_avg,\n",
    "        \"num_annotations\": len(file_anns)\n",
    "    })\n",
    "\n",
    "mad_df = pd.DataFrame(results)\n",
    "mad_df.head()\n"
   ]
  },
  {
   "cell_type": "code",
   "execution_count": 10,
   "id": "94eb7fdf-bcb8-433c-87ae-db6e83618c28",
   "metadata": {},
   "outputs": [
    {
     "name": "stdout",
     "output_type": "stream",
     "text": [
      "Weighted Onset MAD: 0.202 seconds\n",
      "Weighted Offset MAD: 0.226 seconds\n",
      "Overall Temporal Precision Score (Onset): 0.80\n",
      "Overall Temporal Precision Score (Offset): 0.77\n"
     ]
    }
   ],
   "source": [
    "weighted_onset_precision = (\n",
    "    (mad_df[\"onset_MAD\"] * mad_df[\"num_clusters\"]).sum() / mad_df[\"num_clusters\"].sum()\n",
    ")\n",
    "\n",
    "weighted_offset_precision = (\n",
    "    (mad_df[\"offset_MAD\"] * mad_df[\"num_clusters\"]).sum() / mad_df[\"num_clusters\"].sum()\n",
    ")\n",
    "\n",
    "print(f\"Weighted Onset MAD: {weighted_onset_precision:.3f} seconds\")\n",
    "print(f\"Weighted Offset MAD: {weighted_offset_precision:.3f} seconds\")\n",
    "\n",
    "# Normalize to a [0,1] scale where 1 = perfect alignment, 0 = very off\n",
    "score = lambda mad: max(0, 1 - mad)  # simple linear decay\n",
    "\n",
    "onset_precision_score = score(weighted_onset_precision)\n",
    "offset_precision_score = score(weighted_offset_precision)\n",
    "\n",
    "print(f\"Overall Temporal Precision Score (Onset): {onset_precision_score:.2f}\")\n",
    "print(f\"Overall Temporal Precision Score (Offset): {offset_precision_score:.2f}\")\n"
   ]
  },
  {
   "cell_type": "code",
   "execution_count": 11,
   "id": "536648ce-a34d-4be5-b741-eb136d67d976",
   "metadata": {},
   "outputs": [
    {
     "name": "stderr",
     "output_type": "stream",
     "text": [
      "C:\\Users\\TET\\AppData\\Local\\Temp\\ipykernel_17092\\2424431319.py:15: MatplotlibDeprecationWarning: The 'labels' parameter of boxplot() has been renamed 'tick_labels' since Matplotlib 3.9; support for the old name will be dropped in 3.11.\n",
      "  bp = plt.boxplot(data, labels=labels, patch_artist=True, widths=0.4,\n"
     ]
    },
    {
     "data": {
      "image/png": "[encoded data removed]",
      "text/plain": [
       "<Figure size 800x500 with 1 Axes>"
      ]
     },
     "metadata": {},
     "output_type": "display_data"
    }
   ],
   "source": [
    "import matplotlib.pyplot as plt\n",
    "import numpy as np\n",
    "\n",
    "# Prepare data\n",
    "onset_mads = mad_df[\"onset_MAD\"].dropna().values\n",
    "offset_mads = mad_df[\"offset_MAD\"].dropna().values\n",
    "\n",
    "data = [onset_mads, offset_mads]\n",
    "labels = [\"Onset MAD\", \"Offset MAD\"]\n",
    "\n",
    "# Plot\n",
    "plt.figure(figsize=(8, 5))\n",
    "\n",
    "# Boxplot\n",
    "bp = plt.boxplot(data, labels=labels, patch_artist=True, widths=0.4,\n",
    "                 boxprops=dict(facecolor=\"skyblue\"),\n",
    "                 medianprops=dict(color=\"red\", linewidth=2))\n",
    "\n",
    "# Scatter points (jittered)\n",
    "for i, group in enumerate(data):\n",
    "    x = np.random.normal(i + 1, 0.05, size=len(group))  # jitter\n",
    "    plt.plot(x, group, 'o', color='black', alpha=0.4)\n",
    "\n",
    "# Labels and title\n",
    "plt.title(\"Distribution of Onset and Offset MADs\")\n",
    "plt.ylabel(\"Mean Absolute Deviation (seconds)\")\n",
    "plt.grid(axis='y', linestyle='--', alpha=0.7)\n",
    "plt.tight_layout()\n",
    "plt.show()\n"
   ]
  },
  {
   "cell_type": "code",
   "execution_count": 71,
   "id": "9e318edb-d565-4e82-98bc-379eec66bb53",
   "metadata": {},
   "outputs": [
    {
     "name": "stdout",
     "output_type": "stream",
     "text": [
      "\n",
      " Average annotation similarity (based on text): 0.135\n"
     ]
    }
   ],
   "source": [
    "import os\n",
    "import numpy as np\n",
    "import pandas as pd\n",
    "import re\n",
    "\n",
    "# Load metadata\n",
    "metadata = pd.read_csv(os.path.join(PATH_TO_DATASET, \"metadata.csv\"))\n",
    "\n",
    "# --- Helper Functions ---\n",
    "\n",
    "def iou(a, b):\n",
    "    inter_start = max(a[\"onset\"], b[\"onset\"])\n",
    "    inter_end = min(a[\"offset\"], b[\"offset\"])\n",
    "    inter = max(0, inter_end - inter_start)\n",
    "    union = max(a[\"offset\"], b[\"offset\"]) - min(a[\"onset\"], b[\"onset\"])\n",
    "    return inter / union if union > 0 else 0\n",
    "\n",
    "def cluster_annotations(df, iou_threshold=0.5):\n",
    "    used = set()\n",
    "    clusters = []\n",
    "    for i, row_i in df.iterrows():\n",
    "        if i in used:\n",
    "            continue\n",
    "        cluster = [i]\n",
    "        for j, row_j in df.iterrows():\n",
    "            if j != i and j not in used and iou(row_i, row_j) > iou_threshold:\n",
    "                cluster.append(j)\n",
    "        used.update(cluster)\n",
    "        clusters.append(df.loc[cluster])\n",
    "    return clusters\n",
    "\n",
    "def extract_keywords_from_text(text):\n",
    "    if not isinstance(text, str):\n",
    "        return set()\n",
    "    words = re.sub(r\"[^\\w\\s]\", \"\", text.lower()).split()\n",
    "    return set(words)\n",
    "\n",
    "def jaccard_similarity(set1, set2):\n",
    "    if not set1 or not set2:\n",
    "        return np.nan\n",
    "    return len(set1 & set2) / len(set1 | set2)\n",
    "\n",
    "def compute_keyword_similarity_from_texts(text_list):\n",
    "    sets = [extract_keywords_from_text(t) for t in text_list if isinstance(t, str) and t.strip()]\n",
    "    if len(sets) < 2:\n",
    "        return np.nan\n",
    "    sims = [\n",
    "        jaccard_similarity(sets[i], sets[j])\n",
    "        for i in range(len(sets)) for j in range(i + 1, len(sets))\n",
    "    ]\n",
    "    return np.mean(sims)\n",
    "\n",
    "# --- Main Processing ---\n",
    "\n",
    "keyword_similarities = []\n",
    "\n",
    "for filename in multi_annotated_files:\n",
    "    file_data = multiple_annotations[multiple_annotations[\"filename\"] == filename]\n",
    "\n",
    "    clusters = cluster_annotations(file_data, iou_threshold=0.5)\n",
    "    #print(f\"File: {filename}, #Clusters: {len(clusters)}\")\n",
    "\n",
    "    for cluster_df in clusters:\n",
    "        if len(cluster_df) < 2:\n",
    "            continue\n",
    "        text_list = cluster_df[\"text\"].dropna().tolist()\n",
    "        keyword_sim = compute_keyword_similarity_from_texts(text_list)\n",
    "        if not np.isnan(keyword_sim):\n",
    "            keyword_similarities.append(keyword_sim)\n",
    "\n",
    "# --- Output ---\n",
    "if keyword_similarities:\n",
    "    overall_keyword_similarity = np.mean(keyword_similarities)\n",
    "    print(f\"\\n Average annotation similarity (based on text): {overall_keyword_similarity:.3f}\")\n",
    "else:\n",
    "    print(\"\\n No valid annotation similarities found.\")\n"
   ]
  },
  {
   "cell_type": "code",
   "execution_count": 72,
   "id": "895cf206-bd04-4f80-9e7f-00c2043d70c8",
   "metadata": {},
   "outputs": [
    {
     "name": "stdout",
     "output_type": "stream",
     "text": [
      "\n",
      "Average text similarity across clusters: 0.137\n"
     ]
    }
   ],
   "source": [
    "import pandas as pd\n",
    "import numpy as np\n",
    "from sklearn.feature_extraction.text import TfidfVectorizer\n",
    "from sklearn.metrics.pairwise import cosine_similarity\n",
    "\n",
    "# --- Helper: compute average cosine similarity between texts ---\n",
    "def compute_text_similarity(texts):\n",
    "    if len(texts) < 2:\n",
    "        return np.nan\n",
    "    tfidf = TfidfVectorizer().fit_transform(texts)\n",
    "    sim_matrix = cosine_similarity(tfidf)\n",
    "    # Upper triangle without diagonal\n",
    "    sims = sim_matrix[np.triu_indices_from(sim_matrix, k=1)]\n",
    "    return np.mean(sims) if len(sims) > 0 else np.nan\n",
    "text_similarities = []\n",
    "\n",
    "for filename in multi_annotated_files:\n",
    "    file_data = multiple_annotations[multiple_annotations[\"filename\"] == filename]\n",
    "    \n",
    "    clusters = cluster_annotations(file_data, iou_threshold=0.5)\n",
    "\n",
    "    for cluster_df in clusters:\n",
    "        if len(cluster_df) < 2:\n",
    "            continue\n",
    "        text_list = cluster_df[\"text\"].dropna().tolist()\n",
    "        if len(text_list) < 2:\n",
    "            continue\n",
    "        sim = compute_text_similarity(text_list)\n",
    "        if not np.isnan(sim):\n",
    "            text_similarities.append(sim)\n",
    "\n",
    "if text_similarities:\n",
    "    avg_text_sim = np.mean(text_similarities)\n",
    "    print(f\"\\nAverage text similarity across clusters: {avg_text_sim:.3f}\")\n",
    "else:\n",
    "    print(\"\\nNo valid text similarities found.\")\n"
   ]
  },
  {
   "cell_type": "code",
   "execution_count": 73,
   "id": "d7ab2253-3cea-4463-809e-6c66f7cc8227",
   "metadata": {},
   "outputs": [
    {
     "data": {
      "image/png": "[encoded data removed]",
      "text/plain": [
       "<Figure size 800x600 with 1 Axes>"
      ]
     },
     "metadata": {},
     "output_type": "display_data"
    }
   ],
   "source": [
    "# Create similarity bins for clustering\n",
    "bins = [0, 0.2, 0.4, 0.6, 0.8, 1.0]\n",
    "bin_labels = ['0-0.2', '0.2-0.4', '0.4-0.6', '0.6-0.8', '0.8-1.0']\n",
    "\n",
    "# Classify the keyword similarities into bins\n",
    "similarity_bins = pd.cut(text_similarities, bins=bins, labels=bin_labels, include_lowest=True)\n",
    "\n",
    "# Plot a bar chart of the cluster distribution in each similarity bin\n",
    "plt.figure(figsize=(8, 6))\n",
    "similarity_bins.value_counts().sort_index().plot(kind='bar', color='lightcoral')\n",
    "plt.title('Cluster Distribution Across Similarity Ranges')\n",
    "plt.xlabel('Keyword Similarity Range')\n",
    "plt.ylabel('Number of Clusters')\n",
    "plt.xticks(rotation=45)\n",
    "plt.show()\n"
   ]
  },
  {
   "cell_type": "code",
   "execution_count": 74,
   "id": "97a4ff60-eba1-42d2-b8af-1e78d9b91cef",
   "metadata": {},
   "outputs": [
    {
     "name": "stdout",
     "output_type": "stream",
     "text": [
      "\n",
      " Average annotation similarity (based on text): 0.221\n"
     ]
    }
   ],
   "source": [
    "import os\n",
    "import numpy as np\n",
    "import pandas as pd\n",
    "import re\n",
    "\n",
    "# Load metadata\n",
    "metadata = pd.read_csv(os.path.join(PATH_TO_DATASET, \"metadata.csv\"))\n",
    "\n",
    "# --- Helper Functions ---\n",
    "\n",
    "def extract_keywords_from_text(text):\n",
    "    if not isinstance(text, str):\n",
    "        return set()\n",
    "    words = re.sub(r\"[^\\w\\s]\", \"\", text.lower()).split()\n",
    "    return set(words)\n",
    "\n",
    "def jaccard_similarity(set1, set2):\n",
    "    if not set1 or not set2:\n",
    "        return np.nan\n",
    "    return len(set1 & set2) / len(set1 | set2)\n",
    "\n",
    "def compute_keyword_similarity_from_texts(text_list):\n",
    "    sets = [extract_keywords_from_text(t) for t in text_list if isinstance(t, str) and t.strip()]\n",
    "    if len(sets) < 2:\n",
    "        return np.nan\n",
    "    sims = [\n",
    "        jaccard_similarity(sets[i], sets[j])\n",
    "        for i in range(len(sets)) for j in range(i + 1, len(sets))\n",
    "    ]\n",
    "    return np.mean(sims)\n",
    "\n",
    "# --- Main Processing ---\n",
    "\n",
    "keyword_similarities = []\n",
    "\n",
    "for filename in multi_annotated_files:\n",
    "    file_data = multiple_annotations[multiple_annotations[\"filename\"] == filename]\n",
    "\n",
    "    # Collect text from all annotations in the file\n",
    "    text_list = file_data[\"text\"].dropna().tolist()\n",
    "\n",
    "    # Calculate keyword similarity for the entire file (without clustering)\n",
    "    keyword_sim = compute_keyword_similarity_from_texts(text_list)\n",
    "\n",
    "    if not np.isnan(keyword_sim):\n",
    "        keyword_similarities.append(keyword_sim)\n",
    "\n",
    "# --- Output ---\n",
    "if keyword_similarities:\n",
    "    overall_keyword_similarity = np.mean(keyword_similarities)\n",
    "    print(f\"\\n Average annotation similarity (based on text): {overall_keyword_similarity:.3f}\")\n",
    "else:\n",
    "    print(\"\\n No valid annotation similarities found.\")\n"
   ]
  },
  {
   "cell_type": "code",
   "execution_count": 87,
   "id": "92cf9f13-1af9-4e2b-b6ef-562033130074",
   "metadata": {},
   "outputs": [
    {
     "name": "stdout",
     "output_type": "stream",
     "text": [
      "Number of annotated files: 2000\n",
      "Average annotations per file: 3.9875\n",
      "Median annotations per file: 2.0\n",
      "Min annotations in a file: 1\n",
      "Max annotations in a file: 73\n"
     ]
    }
   ],
   "source": [
    "import pandas as pd\n",
    "\n",
    "annotations = pd.read_csv(\"MLPC2025_dataset/annotations.csv\")\n",
    "\n",
    "# Count of annotations per file\n",
    "annotations_per_file = annotations.groupby(\"filename\").size().reset_index(name=\"num_annotations\")\n",
    "\n",
    "# Preview\n",
    "#print(annotations_per_file.head())\n",
    "num_annotated_files = annotations[\"filename\"].nunique()\n",
    "print(\"Number of annotated files:\", num_annotated_files)\n",
    "\n",
    "print(\"Average annotations per file:\", annotations_per_file[\"num_annotations\"].mean())\n",
    "print(\"Median annotations per file:\", annotations_per_file[\"num_annotations\"].median())\n",
    "print(\"Min annotations in a file:\", annotations_per_file[\"num_annotations\"].min())\n",
    "print(\"Max annotations in a file:\", annotations_per_file[\"num_annotations\"].max())\n"
   ]
  },
  {
   "cell_type": "code",
   "execution_count": 86,
   "id": "2d382306-f99a-4075-945b-f60d78b00a3b",
   "metadata": {},
   "outputs": [
    {
     "name": "stdout",
     "output_type": "stream",
     "text": [
      "     filename  estimated_sound_sources\n",
      "0  100388.mp3                       12\n",
      "1  100492.mp3                        5\n",
      "2  101693.mp3                        4\n",
      "3  103192.mp3                        9\n",
      "4  104625.mp3                       10\n",
      "\n",
      "Average estimated sound sources per file (metadata): 10.43\n"
     ]
    }
   ],
   "source": [
    "import pandas as pd\n",
    "import re\n",
    "\n",
    "# Load metadata\n",
    "metadata = pd.read_csv(\"MLPC2025_dataset/metadata.csv\")\n",
    "\n",
    "# --- Helper: Clean and tokenize keywords ---\n",
    "def clean_and_tokenize_keywords(keywords):\n",
    "    if not isinstance(keywords, str):\n",
    "        return set()\n",
    "    # Remove punctuation, lowercase, split on comma or space\n",
    "    keywords = re.sub(r\"[^\\w\\s,]\", \"\", keywords.lower())\n",
    "    tokens = re.split(r\"[,\\s]+\", keywords)\n",
    "    return set(token.strip() for token in tokens if token.strip())\n",
    "\n",
    "# --- Main processing ---\n",
    "sound_sources_per_file = []\n",
    "\n",
    "for filename, group in metadata.groupby(\"filename\"):\n",
    "    all_keywords = set()\n",
    "    for kw in group[\"keywords\"].dropna():\n",
    "        all_keywords.update(clean_and_tokenize_keywords(kw))\n",
    "    \n",
    "    sound_sources_per_file.append({\n",
    "        \"filename\": filename,\n",
    "        \"estimated_sound_sources\": len(all_keywords),\n",
    "        \"unique_keywords\": all_keywords\n",
    "    })\n",
    "\n",
    "sources_df = pd.DataFrame(sound_sources_per_file)\n",
    "\n",
    "# --- Output ---\n",
    "print(sources_df[[\"filename\", \"estimated_sound_sources\"]].head())\n",
    "print(f\"\\nAverage estimated sound sources per file (metadata): {sources_df['estimated_sound_sources'].mean():.2f}\")\n"
   ]
  },
  {
   "cell_type": "code",
   "execution_count": 90,
   "id": "2f8e7753-64e4-4a6d-834c-40e02e1e0aa2",
   "metadata": {},
   "outputs": [],
   "source": [
    "import pandas as pd\n",
    "import matplotlib.pyplot as plt\n",
    "#import seaborn as sns\n",
    "import re\n",
    "\n",
    "# Load data\n",
    "annotations = pd.read_csv(\"MLPC2025_dataset/annotations.csv\")\n",
    "annotations = annotations.dropna(subset=[\"text\"])\n",
    "\n",
    "# --- Simple text metrics ---\n",
    "def simple_metrics(text):\n",
    "    words = re.findall(r'\\b\\w+\\b', text.lower())\n",
    "    word_count = len(words)\n",
    "    char_count = len(text)\n",
    "    return word_count, char_count\n",
    "\n",
    "annotations[[\"word_count\", \"char_count\"]] = annotations[\"text\"].apply(lambda t: pd.Series(simple_metrics(t)))\n",
    "\n",
    "# Vocabulary size per annotator\n",
    "def get_vocab(texts):\n",
    "    vocab = set()\n",
    "    for text in texts.dropna():\n",
    "        words = re.findall(r'\\b\\w+\\b', text.lower())\n",
    "        vocab.update(words)\n",
    "    return vocab\n",
    "\n",
    "annotator_stats = annotations.groupby(\"annotator\").agg({\n",
    "    \"word_count\": [\"mean\", \"std\"],\n",
    "    \"char_count\": \"mean\",\n",
    "    \"text\": lambda x: len(get_vocab(x))\n",
    "}).reset_index()\n",
    "\n",
    "annotator_stats.columns = [\"annotator\", \"avg_word_count\", \"word_count_std\", \"avg_char_count\", \"vocab_size\"]\n"
   ]
  },
  {
   "cell_type": "code",
   "execution_count": 93,
   "id": "9f446c57-045d-45ec-87fa-1af50bc073a7",
   "metadata": {},
   "outputs": [
    {
     "data": {
      "image/png": "[encoded data removed]",
      "text/plain": [
       "<Figure size 1000x500 with 1 Axes>"
      ]
     },
     "metadata": {},
     "output_type": "display_data"
    }
   ],
   "source": [
    "import matplotlib.pyplot as plt\n",
    "\n",
    "# Plot average word count per annotator\n",
    "plt.figure(figsize=(10, 5))\n",
    "plt.bar(annotator_stats[\"annotator\"], annotator_stats[\"avg_word_count\"], color='skyblue')\n",
    "plt.title(\"Average Word Count per Annotator\")\n",
    "plt.xlabel(\"Annotator\")\n",
    "plt.ylabel(\"Average Words per Annotation\")\n",
    "plt.xticks([])\n",
    "plt.tight_layout()\n",
    "plt.show()\n"
   ]
  },
  {
   "cell_type": "code",
   "execution_count": 94,
   "id": "5f67c75c-a244-4934-93a5-11055bd39f1b",
   "metadata": {},
   "outputs": [
    {
     "name": "stdout",
     "output_type": "stream",
     "text": [
      "Average Word Count of All Annotations: 7.58\n"
     ]
    }
   ],
   "source": [
    "# Calculate average word count for all annotations\n",
    "average_word_count_all_annotations = annotations[\"word_count\"].mean()\n",
    "\n",
    "# Print the result\n",
    "print(f\"Average Word Count of All Annotations: {average_word_count_all_annotations:.2f}\")\n"
   ]
  },
  {
   "cell_type": "code",
   "execution_count": 95,
   "id": "172fa9c7-83a4-4dfe-a9ad-34f0c8c1a80f",
   "metadata": {},
   "outputs": [
    {
     "name": "stdout",
     "output_type": "stream",
     "text": [
      "Number of annotations with 2 or fewer words: 509\n"
     ]
    }
   ],
   "source": [
    "# Count annotations with 2 or fewer words\n",
    "annotations_with_2_or_less_words = annotations[annotations[\"word_count\"] <= 2]\n",
    "\n",
    "# Get the count of such annotations\n",
    "count_annotations_with_2_or_less_words = annotations_with_2_or_less_words.shape[0]\n",
    "\n",
    "# Print the result\n",
    "print(f\"Number of annotations with 2 or fewer words: {count_annotations_with_2_or_less_words}\")\n"
   ]
  },
  {
   "cell_type": "code",
   "execution_count": 96,
   "id": "ea2fd3cf-2fe9-4f0b-8719-d41057ab81b4",
   "metadata": {},
   "outputs": [
    {
     "name": "stdout",
     "output_type": "stream",
     "text": [
      "Number of annotators who, on average, annotate with less than 3 words: 6\n"
     ]
    }
   ],
   "source": [
    "# Group annotations by annotator and calculate the average word count for each annotator\n",
    "average_word_count_per_annotator = annotations.groupby(\"annotator\")[\"word_count\"].mean()\n",
    "\n",
    "# Count how many annotators have an average word count of less than 3\n",
    "annotators_with_less_than_3_words = (average_word_count_per_annotator < 3).sum()\n",
    "\n",
    "# Print the result\n",
    "print(f\"Number of annotators who, on average, annotate with less than 3 words: {annotators_with_less_than_3_words}\")\n"
   ]
  },
  {
   "cell_type": "code",
   "execution_count": 97,
   "id": "a12e6d0b-66ae-4bcb-9d2c-fa8c08e90a4e",
   "metadata": {},
   "outputs": [
    {
     "name": "stdout",
     "output_type": "stream",
     "text": [
      "Number of annotators who, on average, annotate with less than 3 words: 28\n"
     ]
    }
   ],
   "source": [
    "# Group annotations by annotator and calculate the average word count for each annotator\n",
    "average_word_count_per_annotator = annotations.groupby(\"annotator\")[\"word_count\"].mean()\n",
    "\n",
    "# Count how many annotators have an average word count of less than 3\n",
    "annotators_with_less_than_3_words = (average_word_count_per_annotator < 4).sum()\n",
    "\n",
    "# Print the result\n",
    "print(f\"Number of annotators who, on average, annotate with less than 3 words: {annotators_with_less_than_3_words}\")\n"
   ]
  },
  {
   "cell_type": "code",
   "execution_count": 98,
   "id": "39d8e451-968e-4241-a079-f91fff376692",
   "metadata": {},
   "outputs": [
    {
     "name": "stdout",
     "output_type": "stream",
     "text": [
      "Total number of annotators: 326\n"
     ]
    }
   ],
   "source": [
    "# Get total number of unique annotators\n",
    "total_annotators = annotations[\"annotator\"].nunique()\n",
    "\n",
    "# Print the result\n",
    "print(f\"Total number of annotators: {total_annotators}\")\n"
   ]
  },
  {
   "cell_type": "code",
   "execution_count": 101,
   "id": "50b26bab-cfc1-4e40-aa9c-41dab593d531",
   "metadata": {},
   "outputs": [
    {
     "name": "stdout",
     "output_type": "stream",
     "text": [
      "Number of annotations with 1 or fewer words: 59\n"
     ]
    }
   ],
   "source": [
    "# Count the number of annotations with 2 or fewer words\n",
    "num_short_annotations = (annotations[\"word_count\"] <= 1).sum()\n",
    "\n",
    "# Print the result\n",
    "print(f\"Number of annotations with 1 or fewer words: {num_short_annotations}\")\n"
   ]
  },
  {
   "cell_type": "code",
   "execution_count": 102,
   "id": "714c629b-8967-4a94-a807-0ada1464eecd",
   "metadata": {},
   "outputs": [
    {
     "name": "stdout",
     "output_type": "stream",
     "text": [
      "Number of annotations with 2 or fewer words: 509\n"
     ]
    }
   ],
   "source": [
    "# Count the number of annotations with 2 or fewer words\n",
    "num_short_annotations = (annotations[\"word_count\"] <= 2).sum()\n",
    "\n",
    "# Print the result\n",
    "print(f\"Number of annotations with 2 or fewer words: {num_short_annotations}\")\n"
   ]
  },
  {
   "cell_type": "code",
   "execution_count": null,
   "id": "9089731c-8ab7-41a9-a3bf-03491666e287",
   "metadata": {},
   "outputs": [],
   "source": []
  }
 ],
 "metadata": {
  "kernelspec": {
   "display_name": "Python 3 (ipykernel)",
   "language": "python",
   "name": "python3"
  },
  "language_info": {
   "codemirror_mode": {
    "name": "ipython",
    "version": 3
   },
   "file_extension": ".py",
   "mimetype": "text/x-python",
   "name": "python",
   "nbconvert_exporter": "python",
   "pygments_lexer": "ipython3",
   "version": "3.12.10"
  }
 },
 "nbformat": 4,
 "nbformat_minor": 5
}
