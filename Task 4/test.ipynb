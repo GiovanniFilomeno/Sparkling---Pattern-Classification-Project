{
 "cells": [
  {
   "cell_type": "markdown",
   "id": "984b277f",
   "metadata": {},
   "source": [
    "# MLPC2025 Dataset\n",
    "- `metadata.csv` lists the individual audio files in the data set and corresponding metadata (keywords, descriptions, title, license, download link of the original file, ...)\n",
    "- `metadata_keywords_embeddings.npz` holds one text embedding vector for each list of keywords in `metadata.csv`; rows of `metadata.csv` and `metadata_keywords_embeddings.npz` are aligned; use the index to retrieve the text embedding\n",
    "- `metadata_title_embeddings.npz` holds one text embedding vector for each title in `metadata.csv`; rows of `metadata.csv` and `metadata_title_embeddings.npz` are aligned; use the index to retrieve the text embedding\n",
    "- `annotation.csv` list all temporal annotations and the text description of the region\n",
    "- `annotations_text_embeddings.npz` holds one text embedding vector for each annotation in `annotations.csv`; rows of `annotations.csv` and `annotations_text_embeddings.npz` are aligned; use the index to retrieve the text embedding\n",
    "- folder `audio` contains the audio recordings in mp3 format\n",
    "- folder `audio_features` contains the audio features we extracted for you from the waveforms; each feature file holds multiple feature array. \n",
    "  - See the example below to on how to access the individual arrays."
   ]
  },
  {
   "cell_type": "code",
   "execution_count": 2,
   "id": "6b2b03b0",
   "metadata": {},
   "outputs": [
    {
     "name": "stdout",
     "output_type": "stream",
     "text": [
      "['embeddings', 'melspectrogram', 'mfcc', 'mfcc_delta', 'mfcc_delta2', 'flatness', 'centroid', 'flux', 'energy', 'power', 'bandwidth', 'contrast', 'zerocrossingrate']\n",
      "Shape of ZCR feature (time, n_features) (233, 1)\n",
      "Shape of MFCC features (time, n_features) (233, 32)\n"
     ]
    }
   ],
   "source": [
    "import numpy as np\n",
    "import pandas as pd\n",
    "import os\n",
    "\n",
    "# load the metadata\n",
    "metadata_df = pd.read_csv(\"MLPC2025_dataset/metadata.csv\")\n",
    "title_embeddings = np.load(\"MLPC2025_dataset/metadata_title_embeddings.npz\")[\"embeddings\"]\n",
    "keywords_embeddings = np.load(\"MLPC2025_dataset/metadata_keywords_embeddings.npz\")[\"embeddings\"]\n",
    "\n",
    "# load the annotations\n",
    "annotations_df = pd.read_csv(\"MLPC2025_dataset/annotations.csv\")\n",
    "annotations_embeddings = np.load(\"MLPC2025_dataset/annotations_text_embeddings.npz\")[\"embeddings\"]\n",
    "\n",
    "# load audio features\n",
    "feature_filename = metadata_df.loc[0, \"filename\"].replace(\"mp3\", \"npz\")\n",
    "features = np.load(os.path.join(\"MLPC2025_dataset/audio_features\", feature_filename))\n",
    "print(list(features.keys()))\n",
    "\n",
    "print(\"Shape of ZCR feature (time, n_features)\", features[\"zerocrossingrate\"].shape)\n",
    "print(\"Shape of MFCC features (time, n_features)\", features[\"mfcc\"].shape)"
   ]
  },
  {
   "cell_type": "code",
   "execution_count": null,
   "id": "7509f2c0",
   "metadata": {},
   "outputs": [],
   "source": []
  }
 ],
 "metadata": {
  "kernelspec": {
   "display_name": "retina",
   "language": "python",
   "name": "python3"
  },
  "language_info": {
   "codemirror_mode": {
    "name": "ipython",
    "version": 3
   },
   "file_extension": ".py",
   "mimetype": "text/x-python",
   "name": "python",
   "nbconvert_exporter": "python",
   "pygments_lexer": "ipython3",
   "version": "3.12.8"
  }
 },
 "nbformat": 4,
 "nbformat_minor": 5
}
