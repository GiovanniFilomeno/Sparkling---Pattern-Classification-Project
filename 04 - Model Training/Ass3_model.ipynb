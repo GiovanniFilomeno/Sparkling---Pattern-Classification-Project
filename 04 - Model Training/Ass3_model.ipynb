{
 "cells": [
  {
   "cell_type": "code",
   "execution_count": null,
   "id": "06f22a45",
   "metadata": {},
   "outputs": [
    {
     "name": "stdout",
     "output_type": "stream",
     "text": [
      "Audio‑features dir: ../MLPC2025_classification/audio_features\n",
      "Label dir        : ../MLPC2025_classification/labels  (solo in training set)\n",
      "Salvataggio in   : /Users/Q540900/Desktop/Sparkling---Pattern-Classification-Project/04 - Model Training/frame_out\n",
      "Feature files trovati: 8230\n"
     ]
    },
    {
     "name": "stderr",
     "output_type": "stream",
     "text": [
      "/opt/homebrew/Cellar/micromamba/2.0.8/envs/bmwTeam/lib/python3.13/site-packages/joblib/externals/loky/process_executor.py:752: UserWarning: A worker stopped while some jobs were given to the executor. This can be caused by a too short worker timeout or by a memory leak.\n",
      "  warnings.warn(\n"
     ]
    },
    {
     "name": "stdout",
     "output_type": "stream",
     "text": [
      "Dataset complessivo: (1416482, 768) (1416482, 10)\n",
      "Train: (1133185, 768) Val: (283297, 768)\n"
     ]
    },
    {
     "name": "stderr",
     "output_type": "stream",
     "text": [
      "/opt/homebrew/Cellar/micromamba/2.0.8/envs/bmwTeam/lib/python3.13/site-packages/sklearn/linear_model/_sag.py:348: ConvergenceWarning: The max_iter was reached which means the coef_ did not converge\n",
      "  warnings.warn(\n",
      "/opt/homebrew/Cellar/micromamba/2.0.8/envs/bmwTeam/lib/python3.13/site-packages/sklearn/linear_model/_sag.py:348: ConvergenceWarning: The max_iter was reached which means the coef_ did not converge\n",
      "  warnings.warn(\n",
      "/opt/homebrew/Cellar/micromamba/2.0.8/envs/bmwTeam/lib/python3.13/site-packages/sklearn/linear_model/_sag.py:348: ConvergenceWarning: The max_iter was reached which means the coef_ did not converge\n",
      "  warnings.warn(\n",
      "/opt/homebrew/Cellar/micromamba/2.0.8/envs/bmwTeam/lib/python3.13/site-packages/sklearn/linear_model/_sag.py:348: ConvergenceWarning: The max_iter was reached which means the coef_ did not converge\n",
      "  warnings.warn(\n",
      "/opt/homebrew/Cellar/micromamba/2.0.8/envs/bmwTeam/lib/python3.13/site-packages/sklearn/linear_model/_sag.py:348: ConvergenceWarning: The max_iter was reached which means the coef_ did not converge\n",
      "  warnings.warn(\n",
      "/opt/homebrew/Cellar/micromamba/2.0.8/envs/bmwTeam/lib/python3.13/site-packages/sklearn/linear_model/_sag.py:348: ConvergenceWarning: The max_iter was reached which means the coef_ did not converge\n",
      "  warnings.warn(\n"
     ]
    }
   ],
   "source": [
    "# %% [markdown]\n",
    "# # MLPC 2025 · Frame-level classifier (Task 1 → Task 2 bridge)\n",
    "#\n",
    "# Output: per ogni clip `ID.mp3` un file `frame_out/ID.npz`\n",
    "#         contenente `probs` ∈ ℝ^{T×10} con l'ordine delle 10 classi target.\n",
    "\n",
    "# %% ---------------------------------------------------------------------------\n",
    "import os, itertools, math, pickle\n",
    "from pathlib import Path\n",
    "\n",
    "import numpy as np\n",
    "import pandas as pd\n",
    "from sklearn.ensemble import RandomForestClassifier\n",
    "from sklearn.model_selection import train_test_split\n",
    "from sklearn.metrics import classification_report, roc_auc_score\n",
    "from joblib import Parallel, delayed\n",
    "from sklearn.base import clone\n",
    "from sklearn.linear_model import LogisticRegression\n",
    "\n",
    "# ---- costanti ---------------------------------------------------------------\n",
    "CLASSES = ['Speech', 'Shout', 'Chainsaw', 'Jackhammer', 'Lawn Mower',\n",
    "           'Power Drill', 'Dog Bark', 'Rooster Crow', 'Horn Honk', 'Siren']\n",
    "\n",
    "DATASET_PATH   = Path(\"../MLPC2025_classification\")          # adattare se necessario\n",
    "AF_DIR         = DATASET_PATH / \"audio_features\"\n",
    "LABEL_DIR      = DATASET_PATH / \"labels\"           # presente solo nel set di training\n",
    "META_CSV       = DATASET_PATH / \"metadata.csv\"\n",
    "FRAME_OUT_DIR  = Path(\"./frame_out\")\n",
    "FRAME_OUT_DIR.mkdir(exist_ok=True)\n",
    "\n",
    "SEED           = 42\n",
    "\n",
    "print(f\"Audio‑features dir: {AF_DIR}\")\n",
    "print(f\"Label dir        : {LABEL_DIR}  (solo in training set)\")\n",
    "print(f\"Salvataggio in   : {FRAME_OUT_DIR.resolve()}\")\n",
    "\n",
    "# %% ---------------------------------------------------------------------------\n",
    "# Utility: carica features & labels di un singolo file -> (embeddings, Y matrix T×10)\n",
    "def load_xy(file_id: str):\n",
    "    feat_path  = AF_DIR   / f\"{file_id}.npz\"\n",
    "    label_path = LABEL_DIR / f\"{file_id}_labels.npz\"\n",
    "    if not feat_path.exists() or not label_path.exists():\n",
    "        return None\n",
    "\n",
    "    X = np.load(feat_path)[\"embeddings\"]           # shape (T, D)\n",
    "    lab_npz = np.load(label_path)\n",
    "    # Costruisci matrice labels frame‑level T×10 nell'ordine di CLASSES\n",
    "    Y = np.stack([np.array(lab_npz[c]).reshape(-1) for c in CLASSES], axis=1)\n",
    "    return X, Y\n",
    "\n",
    "# %% ---------------------------------------------------------------------------\n",
    "# 1. Costruiamo il dataset frame‑level concatenando tutti i file disponibili\n",
    "file_ids = [p.stem for p in AF_DIR.glob(\"*.npz\")]\n",
    "print(f\"Feature files trovati: {len(file_ids)}\")\n",
    "\n",
    "def load_valid(fid):\n",
    "    out = load_xy(fid)\n",
    "    if out is None:\n",
    "        return None\n",
    "    x, y = out\n",
    "    if x.shape[0] != y.shape[0]:\n",
    "        return None\n",
    "    return x, y\n",
    "\n",
    "pairs = Parallel(n_jobs=-1)(delayed(load_valid)(fid) for fid in file_ids)\n",
    "pairs = [p for p in pairs if p is not None]\n",
    "\n",
    "Xs, Ys = zip(*pairs)\n",
    "X_all  = np.concatenate(Xs, axis=0)          # ∑T × D\n",
    "Y_all  = np.concatenate(Ys, axis=0).astype(int)\n",
    "\n",
    "print(\"Dataset complessivo:\", X_all.shape, Y_all.shape)\n",
    "\n",
    "# %% ---------------------------------------------------------------------------\n",
    "# 2. Split train / validation\n",
    "strat = Y_all.sum(axis=1)\n",
    "X_tr, X_val, Y_tr, Y_val = train_test_split(\n",
    "    X_all, Y_all, test_size=0.2, random_state=SEED, stratify=strat\n",
    ")\n",
    "print(\"Train:\", X_tr.shape, \"Val:\", X_val.shape)\n",
    "\n",
    "# %% ---------------------------------------------------------------------------\n",
    "# 3. Addestriamo 10 classificatori RandomForest binari (uno per classe)\n",
    "# base_clf = RandomForestClassifier(\n",
    "#     n_estimators=100, n_jobs=-1, class_weight='balanced', random_state=SEED\n",
    "# )\n",
    "base_clf = LogisticRegression(\n",
    "    penalty='l2',\n",
    "    class_weight='balanced',\n",
    "    solver='saga',   \n",
    "    max_iter=1000,\n",
    "    random_state=SEED,\n",
    "    n_jobs=-1\n",
    ")\n",
    "\n",
    "classifiers = []\n",
    "\n",
    "for i in range(len(CLASSES)):\n",
    "    clf_i = clone(base_clf)\n",
    "    clf_i.fit(X_tr, Y_tr[:, i])\n",
    "    classifiers.append(clf_i)\n"
   ]
  },
  {
   "cell_type": "code",
   "execution_count": null,
   "id": "54683791",
   "metadata": {},
   "outputs": [
    {
     "name": "stdout",
     "output_type": "stream",
     "text": [
      "Salvati 8230 file in frame_out\n"
     ]
    }
   ],
   "source": [
    "# ---- quick report -----------------------------------------------------------\n",
    "# pred_val = np.column_stack([clf.predict(X_val) for clf in classifiers])\n",
    "# # print(classification_report(Y_val, pred_val, target_names=CLASSES, zero_division=0))\n",
    "# pred_val_binary = (pred_val > 0).astype(int)\n",
    "# print(classification_report(Y_val, pred_val_binary, target_names=CLASSES, zero_division=0))\n",
    "\n",
    "\n",
    "# try:\n",
    "#     proba_val = np.column_stack([clf.predict_proba(X_val)[:, 1] for clf in classifiers])\n",
    "#     print(\"Micro-AUC:\", roc_auc_score(Y_val, proba_val, average=\"micro\"))\n",
    "# except Exception as e:\n",
    "#     print(\"AUC skip:\", e)\n",
    "\n",
    "# %% ---------------------------------------------------------------------------\n",
    "# 4. Inference su **tutti** i file e salvataggio .npz   -------------------------\n",
    "def save_probs(file_id: str):\n",
    "    feat_path = AF_DIR / f\"{file_id}.npz\"\n",
    "    out_path  = FRAME_OUT_DIR / f\"{file_id}.npz\"\n",
    "    X = np.load(feat_path)[\"embeddings\"]\n",
    "    probs = np.column_stack([clf.predict_proba(X)[:, 1] for clf in classifiers])\n",
    "    np.savez_compressed(out_path, probs=probs)\n",
    "    return out_path.name\n",
    "\n",
    "saved = [save_probs(fid) for fid in file_ids]\n",
    "print(f\"Salvati {len(saved)} file in {FRAME_OUT_DIR}\")"
   ]
  },
  {
   "cell_type": "code",
   "execution_count": null,
   "id": "c5564d73",
   "metadata": {},
   "outputs": [
    {
     "name": "stdout",
     "output_type": "stream",
     "text": [
      "Salvati 10 modelli in /Users/Q540900/Desktop/Sparkling---Pattern-Classification-Project/04 - Model Training/models\n"
     ]
    }
   ],
   "source": [
    "# %% ---------------------------------------------------------------------------\n",
    "# 3b. Salvataggio dei modelli\n",
    "import joblib\n",
    "\n",
    "MODEL_DIR = Path(\"./models\")\n",
    "MODEL_DIR.mkdir(exist_ok=True)\n",
    "\n",
    "for i, clf in enumerate(classifiers):\n",
    "    model_path = MODEL_DIR / f\"classifier_{i}_{CLASSES[i]}.pkl\"\n",
    "    joblib.dump(clf, model_path)\n",
    "\n",
    "print(f\"Salvati {len(classifiers)} modelli in {MODEL_DIR.resolve()}\")\n"
   ]
  },
  {
   "cell_type": "code",
   "execution_count": null,
   "id": "06fab23c",
   "metadata": {},
   "outputs": [],
   "source": []
  }
 ],
 "metadata": {
  "kernelspec": {
   "display_name": "bmwTeam",
   "language": "python",
   "name": "python3"
  },
  "language_info": {
   "codemirror_mode": {
    "name": "ipython",
    "version": 3
   },
   "file_extension": ".py",
   "mimetype": "text/x-python",
   "name": "python",
   "nbconvert_exporter": "python",
   "pygments_lexer": "ipython3",
   "version": "3.13.2"
  }
 },
 "nbformat": 4,
 "nbformat_minor": 5
}
