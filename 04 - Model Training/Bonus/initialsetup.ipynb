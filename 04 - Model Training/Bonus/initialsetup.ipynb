{
 "cells": [
  {
   "cell_type": "code",
   "execution_count": 3,
   "id": "12817f18",
   "metadata": {},
   "outputs": [],
   "source": [
    "import os\n",
    "import numpy as np\n",
    "import pandas as pd\n",
    "import librosa\n",
    "import soundfile as sf\n",
    "from tqdm import tqdm\n",
    "from pathlib import Path\n",
    "\n",
    "# === CONFIGURAZIONE ===\n",
    "SAMPLING_RATE = 32000\n",
    "SEGMENT_LENGTH = 1.2  # in secondi\n",
    "N_MELS = 64\n",
    "HOP_LENGTH = 320  # ≈ 10ms\n",
    "WINDOW_SIZE = 1024\n",
    "\n",
    "# === PERCORSI ===\n",
    "LABELS_DIR = Path(\"../../MLPC2025_classification/labels\")\n",
    "AUDIO_DIR = Path(\"../../MLPC2025_classification/audio\")\n",
    "METADATA_PATH = Path(\"../../MLPC2025_classification/metadata.csv\")\n",
    "OUTPUT_DIR = Path(\"data/segments\")\n",
    "OUTPUT_DIR.mkdir(parents=True, exist_ok=True)\n",
    "\n",
    "# === CLASSI TARGET ===\n",
    "CLASSES = ['Speech', 'Dog Bark', 'Rooster Crow', 'Shout',\n",
    "           'Lawn Mower', 'Chainsaw', 'Jackhammer',\n",
    "           'Power Drill', 'Horn Honk', 'Siren']\n",
    "\n",
    "def extract_logmel(y, sr):\n",
    "    mel_spec = librosa.feature.melspectrogram(\n",
    "        y=y,\n",
    "        sr=sr,\n",
    "        n_fft=WINDOW_SIZE,\n",
    "        hop_length=HOP_LENGTH,\n",
    "        n_mels=N_MELS,\n",
    "        power=2.0\n",
    "    )\n",
    "    logmel = librosa.power_to_db(mel_spec, ref=np.max)\n",
    "    return logmel.T  # shape: (T, F)\n",
    "\n",
    "def load_labels_for_file(file_stem):\n",
    "    label_path = LABELS_DIR / f\"{file_stem}_labels.npz\"\n",
    "    if not label_path.exists():\n",
    "        return None\n",
    "    raw = np.load(label_path)\n",
    "    return {cls: raw[cls] for cls in CLASSES}\n",
    "\n",
    "def process_file(filename):\n",
    "    filepath = AUDIO_DIR / filename\n",
    "    y, _ = librosa.load(filepath, sr=SAMPLING_RATE)\n",
    "\n",
    "    file_stem = Path(filename).stem\n",
    "    labels = load_labels_for_file(file_stem)\n",
    "    if labels is None:\n",
    "        print(f\"⚠️ Labels not found for {file_stem}\")\n",
    "        return\n",
    "\n",
    "    total_duration = librosa.get_duration(y=y, sr=SAMPLING_RATE)\n",
    "    n_segments = int(np.floor(total_duration / SEGMENT_LENGTH))\n",
    "\n",
    "    for i in range(n_segments):\n",
    "        start = i * SEGMENT_LENGTH\n",
    "        end = start + SEGMENT_LENGTH\n",
    "        start_sample = int(start * SAMPLING_RATE)\n",
    "        end_sample = int(end * SAMPLING_RATE)\n",
    "\n",
    "        segment_audio = y[start_sample:end_sample]\n",
    "        if len(segment_audio) < (SEGMENT_LENGTH * SAMPLING_RATE):\n",
    "            continue  # skip segment if too short\n",
    "\n",
    "        # log-mel\n",
    "        logmel = extract_logmel(segment_audio, SAMPLING_RATE)\n",
    "\n",
    "        # label vector\n",
    "        # label vector\n",
    "        segment_label = np.zeros(len(CLASSES), dtype=np.float32)\n",
    "        n_total_frames = len(labels[CLASSES[0]])\n",
    "        segment_start_frame = int(start / (HOP_LENGTH / SAMPLING_RATE))  # frame corrispondente\n",
    "        segment_end_frame = int(end / (HOP_LENGTH / SAMPLING_RATE))\n",
    "\n",
    "        for j, cls in enumerate(CLASSES):\n",
    "            cls_array = labels[cls].squeeze()\n",
    "            if np.any(cls_array[segment_start_frame:segment_end_frame] > 0.5):\n",
    "                segment_label[j] = 1.0\n",
    "\n",
    "\n",
    "        # segment_label = np.zeros(len(CLASSES), dtype=np.float32)\n",
    "        # for j, cls in enumerate(CLASSES):\n",
    "        #     for onset, offset in labels[cls]:\n",
    "        #         if onset < end and offset > start:\n",
    "        #             segment_label[j] = 1.0\n",
    "        #             break\n",
    "\n",
    "        # salvataggio\n",
    "        out_name = f\"{file_stem}_start-{start:.1f}.npz\"\n",
    "        out_path = OUTPUT_DIR / out_name\n",
    "        np.savez_compressed(out_path, logmel=logmel, labels=segment_label)\n"
   ]
  },
  {
   "cell_type": "code",
   "execution_count": 4,
   "id": "07f8daff",
   "metadata": {},
   "outputs": [
    {
     "name": "stderr",
     "output_type": "stream",
     "text": [
      "100%|██████████| 8230/8230 [18:37<00:00,  7.36it/s]  \n"
     ]
    }
   ],
   "source": [
    "metadata_df = pd.read_csv(METADATA_PATH)\n",
    "filenames = metadata_df['filename'].tolist()\n",
    "\n",
    "for fname in tqdm(filenames):\n",
    "    try:\n",
    "        process_file(fname)\n",
    "    except Exception as e:\n",
    "        print(f\"Errore su {fname}: {e}\")\n"
   ]
  },
  {
   "cell_type": "code",
   "execution_count": null,
   "id": "3354c0b1",
   "metadata": {},
   "outputs": [],
   "source": [
    "\n"
   ]
  },
  {
   "cell_type": "code",
   "execution_count": null,
   "id": "07935a1a",
   "metadata": {},
   "outputs": [],
   "source": []
  },
  {
   "cell_type": "code",
   "execution_count": null,
   "id": "43cb6c53",
   "metadata": {},
   "outputs": [],
   "source": [
    "\n"
   ]
  },
  {
   "cell_type": "code",
   "execution_count": null,
   "id": "67d3925c",
   "metadata": {},
   "outputs": [],
   "source": []
  }
 ],
 "metadata": {
  "kernelspec": {
   "display_name": "bmwTeam",
   "language": "python",
   "name": "python3"
  },
  "language_info": {
   "codemirror_mode": {
    "name": "ipython",
    "version": 3
   },
   "file_extension": ".py",
   "mimetype": "text/x-python",
   "name": "python",
   "nbconvert_exporter": "python",
   "pygments_lexer": "ipython3",
   "version": "3.13.2"
  }
 },
 "nbformat": 4,
 "nbformat_minor": 5
}
